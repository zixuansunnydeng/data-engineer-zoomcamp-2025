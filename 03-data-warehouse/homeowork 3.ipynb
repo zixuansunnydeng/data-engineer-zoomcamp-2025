{
 "cells": [
  {
   "cell_type": "markdown",
   "metadata": {},
   "source": [
    "## Insert data manually:\n",
    "\n",
    "1. Create a yellow_2024 bucket in Google Cloud Storage\n",
    "2. Upload parquet files to the bucket\n",
    "3. Create External table: \n",
    "\n",
    "\n"
   ]
  },
  {
   "cell_type": "code",
   "execution_count": null,
   "metadata": {},
   "outputs": [],
   "source": [
    "\n",
    "CREATE OR REPLACE EXTERNAL TABLE zoomcamp-year2025-1300.homework2025.external_yellow_2024\n",
    "OPTIONS(\n",
    "  FORMAT='PARQUET',\n",
    "  URIS=['gs://yellow_2024/*']\n",
    ")\n"
   ]
  },
  {
   "cell_type": "code",
   "execution_count": null,
   "metadata": {},
   "outputs": [],
   "source": [
    "\n",
    "CREATE OR REPLACE TABLE zoomcamp-year2025-1300.homework2025.native_yellow_2024\n",
    "AS(\n",
    "  SELECT * FROM `zoomcamp-year2025-1300.homework2025.external_yellow_2024`\n",
    ")\n"
   ]
  },
  {
   "cell_type": "markdown",
   "metadata": {},
   "source": [
    "\n",
    "## Question 1:\n",
    "Question 1: What is count of records for the 2024 Yellow Taxi Data?\n",
    "- 65,623\n",
    "- 840,402\n",
    "- 20,332,093\n",
    "- 85,431,289\n"
   ]
  },
  {
   "cell_type": "code",
   "execution_count": null,
   "metadata": {},
   "outputs": [],
   "source": [
    "\n",
    "SELECT count(1) FROM `zoomcamp-year2025-1300.homework2025.external_yellow_2024` ;\n"
   ]
  },
  {
   "cell_type": "markdown",
   "metadata": {},
   "source": [
    "### Anwer: 20,332,093\n",
    "\n"
   ]
  },
  {
   "cell_type": "markdown",
   "metadata": {},
   "source": [
    "\n",
    "## Question 2:\n",
    "Write a query to count the distinct number of PULocationIDs for the entire dataset on both the tables.</br> \n",
    "What is the **estimated amount** of data that will be read when this query is executed on the External Table and the Table?\n",
    "\n",
    "- 18.82 MB for the External Table and 47.60 MB for the Materialized Table\n",
    "- 0 MB for the External Table and 155.12 MB for the Materialized Table\n",
    "- 2.14 GB for the External Table and 0MB for the Materialized Table\n",
    "- 0 MB for the External Table and 0MB for the Materialized Table"
   ]
  },
  {
   "cell_type": "code",
   "execution_count": null,
   "metadata": {},
   "outputs": [],
   "source": [
    "SELECT COUNT(DISTINCT PULocationID) FROM `zoomcamp-year2025-1300.homework2025.native_yellow_2024`"
   ]
  },
  {
   "cell_type": "code",
   "execution_count": null,
   "metadata": {},
   "outputs": [],
   "source": [
    "SELECT COUNT(DISTINCT PULocationID) FROM `zoomcamp-year2025-1300.homework2025.external_yellow_2024`"
   ]
  },
  {
   "cell_type": "markdown",
   "metadata": {},
   "source": [
    "### Answer: 0 MB for the External Table and 155.12 MB for the Materialized Table\n"
   ]
  },
  {
   "cell_type": "markdown",
   "metadata": {},
   "source": [
    "\n",
    "## Question 3:\n",
    "Write a query to retrieve the PULocationID from the table (not the external table) in BigQuery. Now write a query to retrieve the PULocationID and DOLocationID on the same table. Why are the estimated number of Bytes different?\n",
    "- BigQuery is a columnar database, and it only scans the specific columns requested in the query. Querying two columns (PULocationID, DOLocationID) requires \n",
    "reading more data than querying one column (PULocationID), leading to a higher estimated number of bytes processed.\n",
    "- BigQuery duplicates data across multiple storage partitions, so selecting two columns instead of one requires scanning the table twice, \n",
    "doubling the estimated bytes processed.\n",
    "- BigQuery automatically caches the first queried column, so adding a second column increases processing time but does not affect the estimated bytes scanned.\n",
    "- When selecting multiple columns, BigQuery performs an implicit join operation between them, increasing the estimated bytes processed"
   ]
  },
  {
   "cell_type": "code",
   "execution_count": null,
   "metadata": {},
   "outputs": [],
   "source": [
    "SELECT PULocationID FROM `zoomcamp-year2025-1300.homework2025.native_yellow_2024`"
   ]
  },
  {
   "cell_type": "code",
   "execution_count": null,
   "metadata": {},
   "outputs": [],
   "source": [
    "SELECT PULocationID, DOLocationID FROM `zoomcamp-year2025-1300.homework2025.native_yellow_2024`"
   ]
  },
  {
   "cell_type": "markdown",
   "metadata": {},
   "source": [
    "### Answer: BigQuery is a columnar database, and it only scans the specific columns requested in the query. Querying two columns (PULocationID, DOLocationID) requires reading more data than querying one column (PULocationID), leading to a higher estimated number of bytes processed."
   ]
  },
  {
   "cell_type": "markdown",
   "metadata": {},
   "source": [
    "## Question 4:\n",
    "How many records have a fare_amount of 0?\n",
    "- 128,210\n",
    "- 546,578\n",
    "- 20,188,016\n",
    "- 8,333"
   ]
  },
  {
   "cell_type": "code",
   "execution_count": null,
   "metadata": {},
   "outputs": [],
   "source": [
    "\n",
    "SELECT COUNT(fare_amount)  FROM `zoomcamp-year2025-1300.homework2025.native_yellow_2024`\n",
    "WHERE fare_amount = 0 ;"
   ]
  },
  {
   "cell_type": "markdown",
   "metadata": {},
   "source": [
    "### Answer: 8333\n"
   ]
  },
  {
   "cell_type": "markdown",
   "metadata": {},
   "source": [
    "## Question 5:\n",
    "What is the best strategy to make an optimized table in Big Query if your query will always filter based on tpep_dropoff_datetime and order the results by VendorID (Create a new table with this strategy)\n",
    "- Partition by tpep_dropoff_datetime and Cluster on VendorID\n",
    "- Cluster on by tpep_dropoff_datetime and Cluster on VendorID\n",
    "- Cluster on tpep_dropoff_datetime Partition by VendorID\n",
    "- Partition by tpep_dropoff_datetime and Partition by VendorID"
   ]
  },
  {
   "cell_type": "code",
   "execution_count": null,
   "metadata": {},
   "outputs": [],
   "source": [
    "CREATE OR REPLACE TABLE zoomcamp-year2025-1300.homework2025.partitioned_yellow_2024\n",
    "PARTITION BY DATE(tpep_dropoff_datetime)\n",
    "CLUSTER BY VendorID\n",
    "AS(\n",
    "  SELECT * FROM `zoomcamp-year2025-1300.homework2025.native_yellow_2024`\n",
    ")"
   ]
  },
  {
   "cell_type": "markdown",
   "metadata": {},
   "source": [
    "### Answer: Partition by tpep_dropoff_datetime and Cluster on VendorID"
   ]
  },
  {
   "cell_type": "markdown",
   "metadata": {},
   "source": [
    "## Question 6:\n",
    "Write a query to retrieve the distinct VendorIDs between tpep_dropoff_datetime\n",
    "2024-03-01 and 2024-03-15 (inclusive)</br>\n",
    "\n",
    "Use the materialized table you created earlier in your from clause and note the estimated bytes. Now change the table in the from clause to the partitioned table you created for question 5 and note the estimated bytes processed. What are these values? </br>\n",
    "\n",
    "Choose the answer which most closely matches.</br> \n",
    "\n",
    "- 12.47 MB for non-partitioned table and 326.42 MB for the partitioned table\n",
    "- 310.24 MB for non-partitioned table and 26.84 MB for the partitioned table\n",
    "- 5.87 MB for non-partitioned table and 0 MB for the partitioned table\n",
    "- 310.31 MB for non-partitioned table and 285.64 MB for the partitioned table"
   ]
  },
  {
   "cell_type": "code",
   "execution_count": null,
   "metadata": {},
   "outputs": [],
   "source": [
    "SELECT DISTINCT VendorID FROM `zoomcamp-year2025-1300.homework2025.native_yellow_2024`\n",
    "WHERE tpep_dropoff_datetime >= '2024-03-01'\n",
    "AND tpep_dropoff_datetime <= '2024-03-15';"
   ]
  },
  {
   "cell_type": "code",
   "execution_count": null,
   "metadata": {},
   "outputs": [],
   "source": [
    "SELECT DISTINCT VendorID FROM `zoomcamp-year2025-1300.homework2025.partitioned_yellow_2024`\n",
    "WHERE tpep_dropoff_datetime >= '2024-03-01'\n",
    "AND tpep_dropoff_datetime <= '2024-03-15';"
   ]
  },
  {
   "cell_type": "markdown",
   "metadata": {},
   "source": [
    "### Answer: 310.24 MB for non-partitioned table and 26.84 MB for the partitioned table"
   ]
  },
  {
   "cell_type": "markdown",
   "metadata": {},
   "source": [
    "## Question 7: \n",
    "Where is the data stored in the External Table you created?\n",
    "\n",
    "- Big Query\n",
    "- Container Registry\n",
    "- GCP Bucket\n",
    "- Big Table\n",
    "\n",
    "\n",
    "### Answer: GCP Bucket"
   ]
  },
  {
   "cell_type": "markdown",
   "metadata": {},
   "source": [
    "## Question 8:\n",
    "It is best practice in Big Query to always cluster your data:\n",
    "- True\n",
    "- False\n",
    "\n",
    "\n",
    "### Answer: False"
   ]
  },
  {
   "cell_type": "markdown",
   "metadata": {},
   "source": [
    "## (Bonus: Not worth points) Question 9:\n",
    "No Points: Write a `SELECT count(*)` query FROM the materialized table you created. How many bytes does it estimate will be read? Why?"
   ]
  }
 ],
 "metadata": {
  "language_info": {
   "name": "python"
  }
 },
 "nbformat": 4,
 "nbformat_minor": 2
}
